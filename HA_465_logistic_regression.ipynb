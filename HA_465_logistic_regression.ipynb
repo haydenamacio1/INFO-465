{
 "cells": [
  {
   "cell_type": "code",
   "execution_count": 13,
   "id": "b5c3fe95",
   "metadata": {},
   "outputs": [
    {
     "name": "stdout",
     "output_type": "stream",
     "text": [
      "Requirement already satisfied: pandas in /opt/anaconda3/lib/python3.12/site-packages (2.2.2)\n",
      "Requirement already satisfied: numpy>=1.26.0 in /opt/anaconda3/lib/python3.12/site-packages (from pandas) (1.26.4)\n",
      "Requirement already satisfied: python-dateutil>=2.8.2 in /opt/anaconda3/lib/python3.12/site-packages (from pandas) (2.9.0.post0)\n",
      "Requirement already satisfied: pytz>=2020.1 in /opt/anaconda3/lib/python3.12/site-packages (from pandas) (2024.1)\n",
      "Requirement already satisfied: tzdata>=2022.7 in /opt/anaconda3/lib/python3.12/site-packages (from pandas) (2023.3)\n",
      "Requirement already satisfied: six>=1.5 in /opt/anaconda3/lib/python3.12/site-packages (from python-dateutil>=2.8.2->pandas) (1.16.0)\n",
      "Requirement already satisfied: numpy in /opt/anaconda3/lib/python3.12/site-packages (1.26.4)\n",
      "Requirement already satisfied: openpyxl in /opt/anaconda3/lib/python3.12/site-packages (3.1.2)\n",
      "Requirement already satisfied: et-xmlfile in /opt/anaconda3/lib/python3.12/site-packages (from openpyxl) (1.1.0)\n",
      "Requirement already satisfied: statsmodels in /opt/anaconda3/lib/python3.12/site-packages (0.14.2)\n",
      "Requirement already satisfied: numpy>=1.22.3 in /opt/anaconda3/lib/python3.12/site-packages (from statsmodels) (1.26.4)\n",
      "Requirement already satisfied: scipy!=1.9.2,>=1.8 in /opt/anaconda3/lib/python3.12/site-packages (from statsmodels) (1.13.1)\n",
      "Requirement already satisfied: pandas!=2.1.0,>=1.4 in /opt/anaconda3/lib/python3.12/site-packages (from statsmodels) (2.2.2)\n",
      "Requirement already satisfied: patsy>=0.5.6 in /opt/anaconda3/lib/python3.12/site-packages (from statsmodels) (0.5.6)\n",
      "Requirement already satisfied: packaging>=21.3 in /opt/anaconda3/lib/python3.12/site-packages (from statsmodels) (23.2)\n",
      "Requirement already satisfied: python-dateutil>=2.8.2 in /opt/anaconda3/lib/python3.12/site-packages (from pandas!=2.1.0,>=1.4->statsmodels) (2.9.0.post0)\n",
      "Requirement already satisfied: pytz>=2020.1 in /opt/anaconda3/lib/python3.12/site-packages (from pandas!=2.1.0,>=1.4->statsmodels) (2024.1)\n",
      "Requirement already satisfied: tzdata>=2022.7 in /opt/anaconda3/lib/python3.12/site-packages (from pandas!=2.1.0,>=1.4->statsmodels) (2023.3)\n",
      "Requirement already satisfied: six in /opt/anaconda3/lib/python3.12/site-packages (from patsy>=0.5.6->statsmodels) (1.16.0)\n",
      "Requirement already satisfied: scikit-learn in /opt/anaconda3/lib/python3.12/site-packages (1.4.2)\n",
      "Requirement already satisfied: numpy>=1.19.5 in /opt/anaconda3/lib/python3.12/site-packages (from scikit-learn) (1.26.4)\n",
      "Requirement already satisfied: scipy>=1.6.0 in /opt/anaconda3/lib/python3.12/site-packages (from scikit-learn) (1.13.1)\n",
      "Requirement already satisfied: joblib>=1.2.0 in /opt/anaconda3/lib/python3.12/site-packages (from scikit-learn) (1.4.2)\n",
      "Requirement already satisfied: threadpoolctl>=2.0.0 in /opt/anaconda3/lib/python3.12/site-packages (from scikit-learn) (2.2.0)\n",
      "Requirement already satisfied: matplotlib in /opt/anaconda3/lib/python3.12/site-packages (3.8.4)\n",
      "Requirement already satisfied: contourpy>=1.0.1 in /opt/anaconda3/lib/python3.12/site-packages (from matplotlib) (1.2.0)\n",
      "Requirement already satisfied: cycler>=0.10 in /opt/anaconda3/lib/python3.12/site-packages (from matplotlib) (0.11.0)\n",
      "Requirement already satisfied: fonttools>=4.22.0 in /opt/anaconda3/lib/python3.12/site-packages (from matplotlib) (4.51.0)\n",
      "Requirement already satisfied: kiwisolver>=1.3.1 in /opt/anaconda3/lib/python3.12/site-packages (from matplotlib) (1.4.4)\n",
      "Requirement already satisfied: numpy>=1.21 in /opt/anaconda3/lib/python3.12/site-packages (from matplotlib) (1.26.4)\n",
      "Requirement already satisfied: packaging>=20.0 in /opt/anaconda3/lib/python3.12/site-packages (from matplotlib) (23.2)\n",
      "Requirement already satisfied: pillow>=8 in /opt/anaconda3/lib/python3.12/site-packages (from matplotlib) (10.3.0)\n",
      "Requirement already satisfied: pyparsing>=2.3.1 in /opt/anaconda3/lib/python3.12/site-packages (from matplotlib) (3.0.9)\n",
      "Requirement already satisfied: python-dateutil>=2.7 in /opt/anaconda3/lib/python3.12/site-packages (from matplotlib) (2.9.0.post0)\n",
      "Requirement already satisfied: six>=1.5 in /opt/anaconda3/lib/python3.12/site-packages (from python-dateutil>=2.7->matplotlib) (1.16.0)\n",
      "Requirement already satisfied: seaborn in /opt/anaconda3/lib/python3.12/site-packages (0.13.2)\n",
      "Requirement already satisfied: numpy!=1.24.0,>=1.20 in /opt/anaconda3/lib/python3.12/site-packages (from seaborn) (1.26.4)\n",
      "Requirement already satisfied: pandas>=1.2 in /opt/anaconda3/lib/python3.12/site-packages (from seaborn) (2.2.2)\n",
      "Requirement already satisfied: matplotlib!=3.6.1,>=3.4 in /opt/anaconda3/lib/python3.12/site-packages (from seaborn) (3.8.4)\n",
      "Requirement already satisfied: contourpy>=1.0.1 in /opt/anaconda3/lib/python3.12/site-packages (from matplotlib!=3.6.1,>=3.4->seaborn) (1.2.0)\n",
      "Requirement already satisfied: cycler>=0.10 in /opt/anaconda3/lib/python3.12/site-packages (from matplotlib!=3.6.1,>=3.4->seaborn) (0.11.0)\n",
      "Requirement already satisfied: fonttools>=4.22.0 in /opt/anaconda3/lib/python3.12/site-packages (from matplotlib!=3.6.1,>=3.4->seaborn) (4.51.0)\n",
      "Requirement already satisfied: kiwisolver>=1.3.1 in /opt/anaconda3/lib/python3.12/site-packages (from matplotlib!=3.6.1,>=3.4->seaborn) (1.4.4)\n",
      "Requirement already satisfied: packaging>=20.0 in /opt/anaconda3/lib/python3.12/site-packages (from matplotlib!=3.6.1,>=3.4->seaborn) (23.2)\n",
      "Requirement already satisfied: pillow>=8 in /opt/anaconda3/lib/python3.12/site-packages (from matplotlib!=3.6.1,>=3.4->seaborn) (10.3.0)\n",
      "Requirement already satisfied: pyparsing>=2.3.1 in /opt/anaconda3/lib/python3.12/site-packages (from matplotlib!=3.6.1,>=3.4->seaborn) (3.0.9)\n",
      "Requirement already satisfied: python-dateutil>=2.7 in /opt/anaconda3/lib/python3.12/site-packages (from matplotlib!=3.6.1,>=3.4->seaborn) (2.9.0.post0)\n",
      "Requirement already satisfied: pytz>=2020.1 in /opt/anaconda3/lib/python3.12/site-packages (from pandas>=1.2->seaborn) (2024.1)\n",
      "Requirement already satisfied: tzdata>=2022.7 in /opt/anaconda3/lib/python3.12/site-packages (from pandas>=1.2->seaborn) (2023.3)\n",
      "Requirement already satisfied: six>=1.5 in /opt/anaconda3/lib/python3.12/site-packages (from python-dateutil>=2.7->matplotlib!=3.6.1,>=3.4->seaborn) (1.16.0)\n"
     ]
    }
   ],
   "source": [
    "# First, we need to install the libraries that we need\n",
    "\n",
    "# Notes on the libraries\n",
    "# Numpy is Python's array data structure\n",
    "# Pandas are Python's main data structure, they are like excel spreadsheet\n",
    "# Openpyxl is the file that allows Python to open and read excel files\n",
    "# Statsmodels contains Python's built-in machine learning models\n",
    "# Scikit-learn is a machine learning and AI library\n",
    "# Seaborn and matplot lib are used to create graphs\n",
    "# We use !pip to install libraries\n",
    "# The ! is the equivalent of a terminal command\n",
    "!pip install pandas\n",
    "!pip install numpy\n",
    "!pip install openpyxl\n",
    "!pip install statsmodels\n",
    "!pip install scikit-learn\n",
    "!pip install matplotlib\n",
    "!pip install seaborn"
   ]
  },
  {
   "cell_type": "code",
   "execution_count": 14,
   "id": "8e3f2f87",
   "metadata": {},
   "outputs": [],
   "source": [
    "# Instantiate the libraries and read the file\n",
    "# Logistic regreession requires all numbers\n",
    "# We will use Encoding to convert from \n",
    "# a category (e.g., Gender) to a number\n",
    "from sklearn.preprocessing import LabelEncoder\n",
    "import numpy as np\n",
    "import pandas as pd\n",
    "from sklearn.model_selection import train_test_split\n",
    "from sklearn.metrics import accuracy_score\n",
    "import statsmodels.api as sm\n",
    "import seaborn as sns\n",
    "import matplotlib.pyplot as plt"
   ]
  },
  {
   "cell_type": "code",
   "execution_count": 6,
   "id": "c373abf1",
   "metadata": {},
   "outputs": [
    {
     "ename": "NameError",
     "evalue": "name 'pd' is not defined",
     "output_type": "error",
     "traceback": [
      "\u001b[1;31m---------------------------------------------------------------------------\u001b[0m",
      "\u001b[1;31mNameError\u001b[0m                                 Traceback (most recent call last)",
      "Cell \u001b[1;32mIn[6], line 4\u001b[0m\n\u001b[0;32m      2\u001b[0m filepath \u001b[38;5;241m=\u001b[39m \u001b[38;5;124m'\u001b[39m\u001b[38;5;124m/Downloads/\u001b[39m\u001b[38;5;124m'\u001b[39m\n\u001b[0;32m      3\u001b[0m filename \u001b[38;5;241m=\u001b[39m \u001b[38;5;124m'\u001b[39m\u001b[38;5;124mcar_sales.xlsx\u001b[39m\u001b[38;5;124m'\u001b[39m\n\u001b[1;32m----> 4\u001b[0m df \u001b[38;5;241m=\u001b[39m pd\u001b[38;5;241m.\u001b[39mread_excel(filepath \u001b[38;5;241m+\u001b[39m filename, sheet_name \u001b[38;5;241m=\u001b[39m \u001b[38;5;124m'\u001b[39m\u001b[38;5;124msheet1\u001b[39m\u001b[38;5;124m'\u001b[39m)\n\u001b[0;32m      5\u001b[0m \u001b[38;5;66;03m# Print some basic information\u001b[39;00m\n\u001b[0;32m      6\u001b[0m \u001b[38;5;28mprint\u001b[39m(\u001b[38;5;124m\"\u001b[39m\u001b[38;5;124mSize of the dataset\u001b[39m\u001b[38;5;124m\"\u001b[39m)\n",
      "\u001b[1;31mNameError\u001b[0m: name 'pd' is not defined"
     ]
    }
   ],
   "source": [
    "# Read in the file, print some basic information\n",
    "filepath = '/Downloads/'\n",
    "filename = 'car_sales.xlsx'\n",
    "df = pd.read_excel(filepath + filename, sheet_name = 'sheet1')\n",
    "# Print some basic information\n",
    "print(\"Size of the dataset\")\n",
    "print(df.shape)\n",
    "print(\"\\n\" + \"The first 5 records\")\n",
    "print(df.head(5))\n",
    "print(\"\\n\" + \"Columns and their datatypes\")\n",
    "print(df.dtypes)"
   ]
  },
  {
   "cell_type": "code",
   "execution_count": 16,
   "id": "d0151db2",
   "metadata": {},
   "outputs": [
    {
     "name": "stdout",
     "output_type": "stream",
     "text": [
      "The percentage of customers who financed their purchase is  36.68%\n",
      "\n",
      "The column Car_id does not have any null values\n",
      "The column Date does not have any null values\n",
      "The column Purchase_Month does not have any null values\n",
      "The column Customer Name has 0.00% null values\n",
      "The column Gender does not have any null values\n",
      "The column Annual Income does not have any null values\n",
      "The column Income_Proxy does not have any null values\n",
      "The column Financing Indicator does not have any null values\n",
      "The column Dealer_Name does not have any null values\n",
      "The column Company does not have any null values\n",
      "The column Model does not have any null values\n",
      "The column Engine does not have any null values\n",
      "The column Transmission does not have any null values\n",
      "The column Color does not have any null values\n",
      "The column Price ($) does not have any null values\n",
      "The column Price_Proxy does not have any null values\n",
      "The column Dealer_No does not have any null values\n",
      "The column Body Style does not have any null values\n",
      "The column Phone does not have any null values\n",
      "The column Dealer_Region does not have any null values\n"
     ]
    }
   ],
   "source": [
    "# Some basic features engineering\n",
    "# Let's see the % who financed \n",
    "# Determined if the dataset is unbalanced\n",
    "percent_financed = (sum(df['Financing Indicator'] == 'Financing') / len(df)) * 100\n",
    "formatted_percent = f\"{percent_financed:.2f}%\"\n",
    "print(\"The percentage of customers who financed their purchase is  \" + formatted_percent)\n",
    "print(\"\")\n",
    "\n",
    "# Nulls are an issue - let's see which columns have them\n",
    "for column in df.columns:\n",
    "    percent_null = (df[column].isnull().sum() / len(df)) * 100\n",
    "    if percent_null > 0:\n",
    "        print(f\"The column {column} has {percent_null:.2f}% null values\")\n",
    "    else:\n",
    "        print(\"The column \" + column +  \" does not have any null values\")\n"
   ]
  },
  {
   "cell_type": "code",
   "execution_count": 17,
   "id": "39947174",
   "metadata": {},
   "outputs": [
    {
     "name": "stdout",
     "output_type": "stream",
     "text": [
      "['Middletown' 'Aurora' 'Greenville' 'Pasco' 'Janesville' 'Scottsdale'\n",
      " 'Austin']\n",
      "['Financing' 'Cash']\n",
      "                     Annual Income  Financing Indicator     Model  Price ($)  \\\n",
      "Annual Income             1.000000            -0.568909 -0.006852   0.012065   \n",
      "Financing Indicator      -0.568909             1.000000  0.027851   0.296656   \n",
      "Model                    -0.006852             0.027851  1.000000   0.052608   \n",
      "Price ($)                 0.012065             0.296656  0.052608   1.000000   \n",
      "Phone                    -0.000351             0.000201 -0.001737  -0.000493   \n",
      "Dealer_Region            -0.006084            -0.001262 -0.005928  -0.009400   \n",
      "\n",
      "                        Phone  Dealer_Region  \n",
      "Annual Income       -0.000351      -0.006084  \n",
      "Financing Indicator  0.000201      -0.001262  \n",
      "Model               -0.001737      -0.005928  \n",
      "Price ($)           -0.000493      -0.009400  \n",
      "Phone                1.000000      -0.008127  \n",
      "Dealer_Region       -0.008127       1.000000  \n"
     ]
    }
   ],
   "source": [
    "# Let's build the model\n",
    "# Let's drop Name, PassengerId, Ticket\n",
    "# They do not have predeictive value\n",
    "df_model = df.drop(['Customer Name'], axis=1)\n",
    "print(df_model['Dealer_Region'].unique())\n",
    "print(df_model['Financing Indicator'].unique())\n",
    "\n",
    "# Clean the data by filtering out invalid values (e.g., 'January')\n",
    "df_model = df_model[~df_model['Dealer_Region'].isin(['January'])]\n",
    "df_model['Dealer_Region'] = df_model['Dealer_Region'].fillna('Unknown').astype(str)\n",
    "df_model['Financing Indicator'] = df_model['Financing Indicator'].fillna('Unknown').astype(str)\n",
    "\n",
    "# Encode categorical variables\n",
    "label_encoder = LabelEncoder()\n",
    "df_model['Model'] = label_encoder.fit_transform(df_model['Model'])\n",
    "df_model['Dealer_Region'] = label_encoder.fit_transform(df_model['Dealer_Region'])\n",
    "df_model['Financing Indicator'] = label_encoder.fit_transform(df_model['Financing Indicator'])\n",
    "\n",
    "# Calculate and print the correlation matrix\n",
    "print(df_model.corr(numeric_only=True))"
   ]
  },
  {
   "cell_type": "code",
   "execution_count": 18,
   "id": "1e611c88",
   "metadata": {},
   "outputs": [
    {
     "name": "stdout",
     "output_type": "stream",
     "text": [
      "Optimization terminated successfully.\n",
      "         Current function value: 0.278472\n",
      "         Iterations 8\n",
      "                            Logit Regression Results                           \n",
      "===============================================================================\n",
      "Dep. Variable:     Financing Indicator   No. Observations:                19124\n",
      "Model:                           Logit   Df Residuals:                    19119\n",
      "Method:                            MLE   Df Model:                            4\n",
      "Date:                 Sun, 27 Oct 2024   Pseudo R-squ.:                  0.5766\n",
      "Time:                         18:03:51   Log-Likelihood:                -5325.5\n",
      "converged:                        True   LL-Null:                       -12577.\n",
      "Covariance Type:             nonrobust   LLR p-value:                     0.000\n",
      "=================================================================================\n",
      "                    coef    std err          z      P>|z|      [0.025      0.975]\n",
      "---------------------------------------------------------------------------------\n",
      "const            -0.0372      0.080     -0.463      0.643      -0.195       0.120\n",
      "Annual Income  -6.01e-05   8.98e-07    -66.895      0.000   -6.19e-05   -5.83e-05\n",
      "Price ($)         0.0001   2.25e-06     48.217      0.000       0.000       0.000\n",
      "Dealer_Region    -0.0069      0.012     -0.554      0.580      -0.031       0.017\n",
      "Model             0.0014      0.001      2.526      0.012       0.000       0.003\n",
      "=================================================================================\n",
      "The model has an accuracy of 89.52%.\n",
      "Predictions saved to car_sales_predictions3.csv\n"
     ]
    }
   ],
   "source": [
    "# Going to do a logistic model using Sex, Pclass\n",
    "# Note: Fare and Pclass are correlated\n",
    "X = sm.add_constant(df_model[['Annual Income', 'Price ($)', 'Dealer_Region', 'Model']])\n",
    "y = df_model['Financing Indicator']\n",
    "\n",
    "\n",
    "# Split into training and test datasets\n",
    "X_train, X_test, y_train, y_test = train_test_split(X, y, test_size=0.2, random_state=72)\n",
    "\n",
    "# Build the logistic regression model\n",
    "model_1 = sm.Logit(y_train, X_train).fit()\n",
    "print(model_1.summary())\n",
    "\n",
    "# Calculate predictions and model accuracy\n",
    "y_pred = model_1.predict(X_test)\n",
    "y_pred = (y_pred > 0.5).astype(int)  # Apply 0.5 threshold for classification\n",
    "\n",
    "# Calculate accuracy\n",
    "accuracy = accuracy_score(y_test, y_pred) * 100\n",
    "print(f\"The model has an accuracy of {accuracy:.2f}%.\")\n",
    "\n",
    "# Step: Predict financing for the entire dataset\n",
    "df_model['Predicted_Financing'] = (model_1.predict(X) > 0.5).astype(int)\n",
    "\n",
    "# Export the predictions along with the original data\n",
    "df_model[['Car_id', 'Annual Income', 'Price ($)', 'Dealer_Region', 'Model', 'Predicted_Financing']].to_csv('car_sales_predictions3.csv', index=False)\n",
    "print(\"Predictions saved to car_sales_predictions3.csv\")"
   ]
  }
 ],
 "metadata": {
  "kernelspec": {
   "display_name": "Python 3 (ipykernel)",
   "language": "python",
   "name": "python3"
  },
  "language_info": {
   "codemirror_mode": {
    "name": "ipython",
    "version": 3
   },
   "file_extension": ".py",
   "mimetype": "text/x-python",
   "name": "python",
   "nbconvert_exporter": "python",
   "pygments_lexer": "ipython3",
   "version": "3.12.4"
  }
 },
 "nbformat": 4,
 "nbformat_minor": 5
}
